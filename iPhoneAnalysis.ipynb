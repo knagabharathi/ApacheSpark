{
 "cells": [
  {
   "cell_type": "code",
   "execution_count": 2,
   "id": "648c8508-1469-4a99-8fe3-81aa68f17ef1",
   "metadata": {},
   "outputs": [],
   "source": [
    "from pyspark.sql import SparkSession"
   ]
  },
  {
   "cell_type": "code",
   "execution_count": 4,
   "id": "b263e8fb-d1ed-4bfe-a40e-91a40378d20b",
   "metadata": {},
   "outputs": [],
   "source": [
    "spark = SparkSession.builder\\\n",
    "        .master(\"local\")\\\n",
    "        .appName(\"Word count\")\\\n",
    "        .config(\"spark.some.config.option\",\"some-value\")\\\n",
    "        .getOrCreate()"
   ]
  },
  {
   "cell_type": "code",
   "execution_count": 5,
   "id": "5b04f265-c8b9-4ec6-82d9-9074dfed0965",
   "metadata": {},
   "outputs": [
    {
     "data": {
      "text/html": [
       "\n",
       "            <div>\n",
       "                <p><b>SparkSession - in-memory</b></p>\n",
       "                \n",
       "        <div>\n",
       "            <p><b>SparkContext</b></p>\n",
       "\n",
       "            <p><a href=\"http://f7b44cede9d0:4040\">Spark UI</a></p>\n",
       "\n",
       "            <dl>\n",
       "              <dt>Version</dt>\n",
       "                <dd><code>v3.5.0</code></dd>\n",
       "              <dt>Master</dt>\n",
       "                <dd><code>local</code></dd>\n",
       "              <dt>AppName</dt>\n",
       "                <dd><code>Word count</code></dd>\n",
       "            </dl>\n",
       "        </div>\n",
       "        \n",
       "            </div>\n",
       "        "
      ],
      "text/plain": [
       "<pyspark.sql.session.SparkSession at 0x7f52d884ff10>"
      ]
     },
     "execution_count": 5,
     "metadata": {},
     "output_type": "execute_result"
    }
   ],
   "source": [
    "spark"
   ]
  },
  {
   "cell_type": "code",
   "execution_count": 32,
   "id": "6c1a6416-1fcc-4787-9cdc-d858cacdc0c4",
   "metadata": {},
   "outputs": [],
   "source": [
    "from pyspark.sql.functions import *"
   ]
  },
  {
   "cell_type": "code",
   "execution_count": 33,
   "id": "c0560889-d99a-4dc2-a55f-c48016e44ddc",
   "metadata": {},
   "outputs": [],
   "source": [
    "df = spark.read.format(\"csv\")\\\n",
    "    .option(\"inferschema\",\"True\")\\\n",
    "    .option(\"header\",\"True\")\\\n",
    "    .load(\"data/apple_data/apple_products.csv\")"
   ]
  },
  {
   "cell_type": "code",
   "execution_count": 34,
   "id": "750167a0-bdce-4dc7-8700-c545d8b83172",
   "metadata": {},
   "outputs": [
    {
     "name": "stdout",
     "output_type": "stream",
     "text": [
      "root\n",
      " |-- Product Name: string (nullable = true)\n",
      " |-- Product URL: string (nullable = true)\n",
      " |-- Brand: string (nullable = true)\n",
      " |-- Sale Price: integer (nullable = true)\n",
      " |-- Mrp: integer (nullable = true)\n",
      " |-- Discount Percentage: integer (nullable = true)\n",
      " |-- Number Of Ratings: integer (nullable = true)\n",
      " |-- Number Of Reviews: integer (nullable = true)\n",
      " |-- Upc: string (nullable = true)\n",
      " |-- Star Rating: double (nullable = true)\n",
      " |-- Ram: string (nullable = true)\n",
      "\n"
     ]
    }
   ],
   "source": [
    "df.printSchema()"
   ]
  },
  {
   "cell_type": "code",
   "execution_count": 35,
   "id": "99e3c82f-ddcc-445d-a134-e8130c48c71e",
   "metadata": {},
   "outputs": [
    {
     "name": "stdout",
     "output_type": "stream",
     "text": [
      "+--------------------+--------------------+-----+----------+-----+-------------------+-----------------+-----------------+----------------+-----------+----+\n",
      "|        Product Name|         Product URL|Brand|Sale Price|  Mrp|Discount Percentage|Number Of Ratings|Number Of Reviews|             Upc|Star Rating| Ram|\n",
      "+--------------------+--------------------+-----+----------+-----+-------------------+-----------------+-----------------+----------------+-----------+----+\n",
      "|APPLE iPhone 8 Pl...|https://www.flipk...|Apple|     49900|49900|                  0|             3431|              356|MOBEXRGV7EHHTGUH|        4.6|2 GB|\n",
      "|APPLE iPhone 8 Pl...|https://www.flipk...|Apple|     84900|84900|                  0|             3431|              356|MOBEXRGVAC6TJT4F|        4.6|2 GB|\n",
      "|APPLE iPhone 8 Pl...|https://www.flipk...|Apple|     84900|84900|                  0|             3431|              356|MOBEXRGVGETABXWZ|        4.6|2 GB|\n",
      "|APPLE iPhone 8 (S...|https://www.flipk...|Apple|     77000|77000|                  0|            11202|              794|MOBEXRGVMZWUHCBA|        4.5|2 GB|\n",
      "|APPLE iPhone 8 (G...|https://www.flipk...|Apple|     77000|77000|                  0|            11202|              794|MOBEXRGVPK7PFEJZ|        4.5|2 GB|\n",
      "+--------------------+--------------------+-----+----------+-----+-------------------+-----------------+-----------------+----------------+-----------+----+\n",
      "only showing top 5 rows\n",
      "\n"
     ]
    }
   ],
   "source": [
    "df.show(5)"
   ]
  },
  {
   "cell_type": "code",
   "execution_count": 36,
   "id": "5b4a60af-cec4-4297-8d98-5ffe6a032cb0",
   "metadata": {},
   "outputs": [
    {
     "data": {
      "text/plain": [
       "62"
      ]
     },
     "execution_count": 36,
     "metadata": {},
     "output_type": "execute_result"
    }
   ],
   "source": [
    "df.count()"
   ]
  },
  {
   "cell_type": "code",
   "execution_count": 37,
   "id": "aee2fd42-f0c0-4d33-905b-e312e64b9ed4",
   "metadata": {},
   "outputs": [
    {
     "name": "stdout",
     "output_type": "stream",
     "text": [
      "+-----+\n",
      "|  Mrp|\n",
      "+-----+\n",
      "|49900|\n",
      "|84900|\n",
      "|84900|\n",
      "|77000|\n",
      "|77000|\n",
      "+-----+\n",
      "only showing top 5 rows\n",
      "\n"
     ]
    }
   ],
   "source": [
    "df.select(\"Mrp\").show(5)"
   ]
  },
  {
   "cell_type": "code",
   "execution_count": 39,
   "id": "70dbec3c-d085-44a1-8b7c-612d448f1202",
   "metadata": {},
   "outputs": [
    {
     "name": "stdout",
     "output_type": "stream",
     "text": [
      "+--------------------+\n",
      "|        Product Name|\n",
      "+--------------------+\n",
      "|APPLE iPhone 8 (S...|\n",
      "|APPLE iPhone 11 (...|\n",
      "|APPLE iPhone 12 P...|\n",
      "|APPLE iPhone 11 (...|\n",
      "|APPLE iPhone 12 (...|\n",
      "|APPLE iPhone 12 (...|\n",
      "|Apple iPhone XR (...|\n",
      "|APPLE iPhone 12 M...|\n",
      "|APPLE iPhone 12 P...|\n",
      "|APPLE iPhone 12 P...|\n",
      "|APPLE iPhone 12 (...|\n",
      "|APPLE iPhone 11 P...|\n",
      "|APPLE iPhone SE (...|\n",
      "|Apple iPhone SE (...|\n",
      "|APPLE iPhone 12 P...|\n",
      "|APPLE iPhone XS M...|\n",
      "|APPLE iPhone 12 M...|\n",
      "|APPLE iPhone 11 P...|\n",
      "|APPLE iPhone SE (...|\n",
      "|Apple iPhone XR (...|\n",
      "+--------------------+\n",
      "only showing top 20 rows\n",
      "\n"
     ]
    }
   ],
   "source": [
    "df.select(\"Product Name\").distinct().show()"
   ]
  },
  {
   "cell_type": "code",
   "execution_count": 47,
   "id": "a069853d-f636-41ef-bae4-0f587fb38a7a",
   "metadata": {},
   "outputs": [
    {
     "name": "stdout",
     "output_type": "stream",
     "text": [
      "+-------+\n",
      "|max_mrp|\n",
      "+-------+\n",
      "| 149900|\n",
      "+-------+\n",
      "\n"
     ]
    }
   ],
   "source": [
    "df.select(max(col(\"Mrp\")).alias(\"max_mrp\")).show()"
   ]
  },
  {
   "cell_type": "code",
   "execution_count": 48,
   "id": "4e26aebe-d188-498e-9ef2-bb9010ae4477",
   "metadata": {},
   "outputs": [
    {
     "name": "stdout",
     "output_type": "stream",
     "text": [
      "+-------+\n",
      "|Min_mrp|\n",
      "+-------+\n",
      "|  39900|\n",
      "+-------+\n",
      "\n"
     ]
    }
   ],
   "source": [
    "df.select(min(col(\"Mrp\")).alias(\"Min_mrp\")).show()"
   ]
  },
  {
   "cell_type": "code",
   "execution_count": 50,
   "id": "f97eaaf0-ab7e-4702-b7ad-42d0b3609df5",
   "metadata": {},
   "outputs": [
    {
     "name": "stdout",
     "output_type": "stream",
     "text": [
      "+--------------------+--------------------+-----+----------+-----+-------------------+-----------------+-----------------+----------------+-----------+----+\n",
      "|        Product Name|         Product URL|Brand|Sale Price|  Mrp|Discount Percentage|Number Of Ratings|Number Of Reviews|             Upc|Star Rating| Ram|\n",
      "+--------------------+--------------------+-----+----------+-----+-------------------+-----------------+-----------------+----------------+-----------+----+\n",
      "|APPLE iPhone 8 Pl...|https://www.flipk...|Apple|     49900|49900|                  0|             3431|              356|MOBEXRGV7EHHTGUH|        4.6|2 GB|\n",
      "|APPLE iPhone 8 Pl...|https://www.flipk...|Apple|     84900|84900|                  0|             3431|              356|MOBEXRGVAC6TJT4F|        4.6|2 GB|\n",
      "|APPLE iPhone 8 Pl...|https://www.flipk...|Apple|     84900|84900|                  0|             3431|              356|MOBEXRGVGETABXWZ|        4.6|2 GB|\n",
      "|APPLE iPhone 8 (S...|https://www.flipk...|Apple|     77000|77000|                  0|            11202|              794|MOBEXRGVMZWUHCBA|        4.5|2 GB|\n",
      "|APPLE iPhone 8 (G...|https://www.flipk...|Apple|     77000|77000|                  0|            11202|              794|MOBEXRGVPK7PFEJZ|        4.5|2 GB|\n",
      "+--------------------+--------------------+-----+----------+-----+-------------------+-----------------+-----------------+----------------+-----------+----+\n",
      "only showing top 5 rows\n",
      "\n"
     ]
    }
   ],
   "source": [
    "df.where(col(\"Mrp\")< 149000).show(5)"
   ]
  },
  {
   "cell_type": "code",
   "execution_count": 53,
   "id": "c62a35a0-c682-4884-ae6a-e97a6425c0e7",
   "metadata": {},
   "outputs": [
    {
     "name": "stdout",
     "output_type": "stream",
     "text": [
      "+--------------------+--------------------+-----+----------+-----+-------------------+-----------------+-----------------+----------------+-----------+----+\n",
      "|        Product Name|         Product URL|Brand|Sale Price|  Mrp|Discount Percentage|Number Of Ratings|Number Of Reviews|             Upc|Star Rating| Ram|\n",
      "+--------------------+--------------------+-----+----------+-----+-------------------+-----------------+-----------------+----------------+-----------+----+\n",
      "|APPLE iPhone SE (...|https://www.flipk...|Apple|     29999|39900|                 24|            95807|             8154|MOBFWQ6BGWDVGF3E|        4.5|2 GB|\n",
      "|APPLE iPhone SE (...|https://www.flipk...|Apple|     29999|39900|                 24|            95909|             8161|MOBFWQ6BR3MK7AUG|        4.5|4 GB|\n",
      "+--------------------+--------------------+-----+----------+-----+-------------------+-----------------+-----------------+----------------+-----------+----+\n",
      "\n"
     ]
    }
   ],
   "source": [
    "df.where(col('Mrp') == 39900).show()"
   ]
  },
  {
   "cell_type": "code",
   "execution_count": 54,
   "id": "819f83d4-b7b1-411c-b5c1-db7321d8bd97",
   "metadata": {},
   "outputs": [],
   "source": [
    "df.createOrReplaceTempView('apple_table')"
   ]
  },
  {
   "cell_type": "code",
   "execution_count": 57,
   "id": "02e5ed69-87b8-4618-8d21-37a75daed99b",
   "metadata": {},
   "outputs": [
    {
     "name": "stdout",
     "output_type": "stream",
     "text": [
      "+--------------------+--------------------+-----+----------+-----+-------------------+-----------------+-----------------+----------------+-----------+----+\n",
      "|        Product Name|         Product URL|Brand|Sale Price|  Mrp|Discount Percentage|Number Of Ratings|Number Of Reviews|             Upc|Star Rating| Ram|\n",
      "+--------------------+--------------------+-----+----------+-----+-------------------+-----------------+-----------------+----------------+-----------+----+\n",
      "|APPLE iPhone 8 Pl...|https://www.flipk...|Apple|     49900|49900|                  0|             3431|              356|MOBEXRGV7EHHTGUH|        4.6|2 GB|\n",
      "|APPLE iPhone 8 Pl...|https://www.flipk...|Apple|     84900|84900|                  0|             3431|              356|MOBEXRGVAC6TJT4F|        4.6|2 GB|\n",
      "|APPLE iPhone 8 Pl...|https://www.flipk...|Apple|     84900|84900|                  0|             3431|              356|MOBEXRGVGETABXWZ|        4.6|2 GB|\n",
      "|APPLE iPhone 8 (S...|https://www.flipk...|Apple|     77000|77000|                  0|            11202|              794|MOBEXRGVMZWUHCBA|        4.5|2 GB|\n",
      "|APPLE iPhone 8 (G...|https://www.flipk...|Apple|     77000|77000|                  0|            11202|              794|MOBEXRGVPK7PFEJZ|        4.5|2 GB|\n",
      "+--------------------+--------------------+-----+----------+-----+-------------------+-----------------+-----------------+----------------+-----------+----+\n",
      "only showing top 5 rows\n",
      "\n"
     ]
    }
   ],
   "source": [
    "spark.sql(\"select * from apple_table\").show(5)"
   ]
  },
  {
   "cell_type": "code",
   "execution_count": 70,
   "id": "ae046bd9-a60e-4617-92b7-5f79582f880d",
   "metadata": {},
   "outputs": [
    {
     "name": "stdout",
     "output_type": "stream",
     "text": [
      "+--------------------+-------+\n",
      "|        Product Name|sum_mrp|\n",
      "+--------------------+-------+\n",
      "|APPLE iPhone 12 P...| 129900|\n",
      "|APPLE iPhone 12 P...| 139900|\n",
      "|APPLE iPhone 12 P...| 129900|\n",
      "|APPLE iPhone 11 P...| 117100|\n",
      "|APPLE iPhone 12 P...| 139900|\n",
      "|APPLE iPhone 11 P...| 140300|\n",
      "|APPLE iPhone 12 P...| 119900|\n",
      "|APPLE iPhone 12 P...| 119900|\n",
      "|APPLE iPhone 12 P...| 129900|\n",
      "|APPLE iPhone 11 P...| 117100|\n",
      "|APPLE iPhone 12 P...| 139900|\n",
      "|APPLE iPhone 11 P...| 106600|\n",
      "|APPLE iPhone 12 P...| 139900|\n",
      "|APPLE iPhone 11 P...| 121300|\n",
      "|APPLE iPhone 11 P...| 131900|\n",
      "|APPLE iPhone 11 P...| 140300|\n",
      "|APPLE iPhone 12 P...| 149900|\n",
      "|APPLE iPhone 12 P...| 129900|\n",
      "|APPLE iPhone 12 P...| 149900|\n",
      "|APPLE iPhone 11 P...| 117100|\n",
      "+--------------------+-------+\n",
      "only showing top 20 rows\n",
      "\n"
     ]
    }
   ],
   "source": [
    "spark.sql(\"\"\"\n",
    "        SELECT \n",
    "            `Product Name`,\n",
    "            SUM(Mrp) sum_mrp\n",
    "        FROM apple_table \n",
    "        GROUP BY `Product Name`\n",
    "          \"\"\").where(col('sum_mrp')> 100000).show()"
   ]
  },
  {
   "cell_type": "code",
   "execution_count": 68,
   "id": "6fab1847-6dad-4cf9-ae8d-a2620fa0ffdb",
   "metadata": {},
   "outputs": [
    {
     "name": "stdout",
     "output_type": "stream",
     "text": [
      "+--------------------+-------+\n",
      "|        Product Name|sum_mrp|\n",
      "+--------------------+-------+\n",
      "|APPLE iPhone 12 P...| 129900|\n",
      "|APPLE iPhone 12 P...| 139900|\n",
      "|APPLE iPhone 12 P...| 129900|\n",
      "|APPLE iPhone 11 P...| 117100|\n",
      "|APPLE iPhone 12 P...| 139900|\n",
      "|APPLE iPhone 11 P...| 140300|\n",
      "|APPLE iPhone 12 P...| 119900|\n",
      "|APPLE iPhone 12 P...| 119900|\n",
      "|APPLE iPhone 12 P...| 129900|\n",
      "|APPLE iPhone 11 P...| 117100|\n",
      "|APPLE iPhone 12 P...| 139900|\n",
      "|APPLE iPhone 11 P...| 106600|\n",
      "|APPLE iPhone 12 P...| 139900|\n",
      "|APPLE iPhone 11 P...| 121300|\n",
      "|APPLE iPhone 11 P...| 131900|\n",
      "|APPLE iPhone 11 P...| 140300|\n",
      "|APPLE iPhone 12 P...| 149900|\n",
      "|APPLE iPhone 12 P...| 129900|\n",
      "|APPLE iPhone 12 P...| 149900|\n",
      "|APPLE iPhone 11 P...| 117100|\n",
      "+--------------------+-------+\n",
      "only showing top 20 rows\n",
      "\n"
     ]
    }
   ],
   "source": [
    "spark.sql(\"\"\"SELECT \n",
    "                `Product Name`,\n",
    "                SUM(Mrp) sum_mrp\n",
    "          FROM apple_table\n",
    "          GROUP BY `Product Name`\n",
    "          \"\"\").where(col('sum_mrp')> 100000).show()"
   ]
  },
  {
   "cell_type": "code",
   "execution_count": 71,
   "id": "bef8c324-a6d9-47c0-a2a3-d09aa4431766",
   "metadata": {},
   "outputs": [
    {
     "name": "stdout",
     "output_type": "stream",
     "text": [
      "+--------------------+------+---------+---------+\n",
      "|        Product Name|   Mrp|dis_price|new_price|\n",
      "+--------------------+------+---------+---------+\n",
      "|APPLE iPhone 12 P...|149900|  14990.0| 134910.0|\n",
      "|APPLE iPhone 12 P...|149900|  14990.0| 134910.0|\n",
      "|APPLE iPhone 11 P...|140300|  14030.0| 126270.0|\n",
      "|APPLE iPhone 11 P...|140300|  14030.0| 126270.0|\n",
      "|APPLE iPhone 12 P...|139900|  13990.0| 125910.0|\n",
      "|APPLE iPhone 12 P...|139900|  13990.0| 125910.0|\n",
      "|APPLE iPhone 12 P...|139900|  13990.0| 125910.0|\n",
      "|APPLE iPhone 12 P...|139900|  13990.0| 125910.0|\n",
      "|APPLE iPhone 11 P...|131900|  13190.0| 118710.0|\n",
      "|APPLE iPhone 11 P...|131900|  13190.0| 118710.0|\n",
      "+--------------------+------+---------+---------+\n",
      "only showing top 10 rows\n",
      "\n"
     ]
    }
   ],
   "source": [
    "df.withColumn('dis_price',col(\"Mrp\")*0.1).select(\"Product Name\",\"Mrp\",\"dis_price\")\\\n",
    "    .withColumn('new_price',col(\"Mrp\")- col(\"dis_price\"))\\\n",
    "    .orderBy(col(\"new_price\").desc())\\\n",
    "    .show(10)"
   ]
  },
  {
   "cell_type": "code",
   "execution_count": 72,
   "id": "0be90296-2b58-40a9-98a6-dfdfc7bb3283",
   "metadata": {},
   "outputs": [],
   "source": [
    "df.write.mode(\"overwrite\").partitionBy(\"Product Name\").save(\"data/apple_data/output2.csv\")"
   ]
  },
  {
   "cell_type": "code",
   "execution_count": null,
   "id": "b061ab34-3da3-499e-baf3-0119d35aa3f6",
   "metadata": {},
   "outputs": [],
   "source": []
  }
 ],
 "metadata": {
  "kernelspec": {
   "display_name": "Python 3 (ipykernel)",
   "language": "python",
   "name": "python3"
  },
  "language_info": {
   "codemirror_mode": {
    "name": "ipython",
    "version": 3
   },
   "file_extension": ".py",
   "mimetype": "text/x-python",
   "name": "python",
   "nbconvert_exporter": "python",
   "pygments_lexer": "ipython3",
   "version": "3.11.6"
  }
 },
 "nbformat": 4,
 "nbformat_minor": 5
}
